{
 "cells": [
  {
   "cell_type": "code",
   "execution_count": 27,
   "metadata": {},
   "outputs": [],
   "source": [
    "from bs4 import BeautifulSoup\n",
    "import requests\n",
    "import time\n",
    "import datetime\n",
    "import smtplib\n",
    "import pandas as pd"
   ]
  },
  {
   "cell_type": "code",
   "execution_count": 18,
   "metadata": {},
   "outputs": [
    {
     "name": "stdout",
     "output_type": "stream",
     "text": [
      "\n",
      "                    iVanda What Part of Dont You Understand Computer Science Lovers Camiseta\n",
      "                   \n",
      "\n",
      "                       $367.44\n",
      "                      \n"
     ]
    }
   ],
   "source": [
    "URL = 'https://www.amazon.com.mx/iVanda-Understand-Computer-Science-Camiseta/dp/B0DK3WFFD1/ref=sr_1_8?__mk_es_MX=%C3%85M%C3%85%C5%BD%C3%95%C3%91&crid=RFD2OX902828&dib=eyJ2IjoiMSJ9.3mUIyvzkG72QQ8x9J4PgVd-Fo4_MNOcAo690hZd7tBWd3-gOhYvmaQShg-9AmnEyeisLGx7Nwgmf1cXEq82lZzgMBS0AjVnSaUyrEvxoZx0vIdmikh7YpCp8K9fpvpcLqtHVLqZ3pMTRzpAdnnUaf-8PHQSKMQ1EEN-J_Pny7Lved-Iv1hQTitFAqx-ECDavPACSTGu_JTlwyJb-vdnHzL8QMLaPrI4dk9aMcgzx6oxH5em5iPtHXDC8NRnDsWYsEjvlRE6v6i7pnz2vV-FYDd6NoDFN_FSv1oG3lOJw7jw.27HDrItqEAzSJ6CjR3WYGanNhGYJ9iVtpIny4j_SYAY&dib_tag=se&keywords=data%2Banalyst%2Bshirts&qid=1734538549&sprefix=data%2Banalyst%2Bshirt%2Caps%2C214&sr=8-8&ufe=app_do%3Aamzn1.fos.de93fa6a-174c-4df7-be7c-5bc8e9c5a71b&th=1'\n",
    "\n",
    "headers = {\"User-Agent\": \"Mozilla/5.0 (Windows NT 10.0; Win64; x64) AppleWebKit/537.36 (KHTML, like Gecko) Chrome/131.0.0.0 Safari/537.36 Edg/131.0.0.0\", \"Accept-Encoding\":\"gzip, deflate\", \"Accept\":\"text/html,application/xhtml+xml,application/xml;q=0.9,*/*;q=0.8\", \"DNT\":\"1\",\"Connection\":\"close\", \"Upgrade-Insecure-Requests\":\"1\"}\n",
    "\n",
    "\n",
    "page = requests.get(URL,headers=headers)\n",
    "\n",
    "soup1 = BeautifulSoup(page.content,\"html.parser\")\n",
    "\n",
    "soup2 = BeautifulSoup(soup1.prettify(),\"html.parser\")\n",
    "\n",
    "title = soup2.find(id='productTitle').get_text()\n",
    "\n",
    "price = soup2.find(class_=\"a-offscreen\").get_text()\n",
    "\n",
    "print(title)\n",
    "print(price)"
   ]
  },
  {
   "cell_type": "code",
   "execution_count": null,
   "metadata": {},
   "outputs": [
    {
     "name": "stdout",
     "output_type": "stream",
     "text": [
      "iVanda What Part of Dont You Understand Computer Science Lovers Camiseta\n",
      "367.44\n"
     ]
    }
   ],
   "source": [
    "title=title.strip()\n",
    "price=price.strip()[1:]\n",
    "today = datetime.date.today()\n",
    "\n",
    "\n",
    "print(title)\n",
    "print(price)\n",
    "print(today)"
   ]
  },
  {
   "cell_type": "code",
   "execution_count": null,
   "metadata": {},
   "outputs": [],
   "source": [
    "import csv\n",
    "header = [\"Title\",\"Price\",\"Date\"]\n",
    "data = [title,price,today]\n",
    "\n",
    "with open(\"AmazonWebScraping.csv\",\"w\",newline='',encoding=\"UTF8\") as f:\n",
    "    writer = csv.writer(f)\n",
    "    writer.writerow(header)\n",
    "    writer.writerow(data)"
   ]
  },
  {
   "cell_type": "code",
   "execution_count": null,
   "metadata": {},
   "outputs": [],
   "source": [
    "df = pd.read_csv(r'\"C:\\Users\\samb3\\Desktop\\DE\\AmazonWebScraping.csv\"')\n",
    "print(df)"
   ]
  }
 ],
 "metadata": {
  "kernelspec": {
   "display_name": "base",
   "language": "python",
   "name": "python3"
  },
  "language_info": {
   "codemirror_mode": {
    "name": "ipython",
    "version": 3
   },
   "file_extension": ".py",
   "mimetype": "text/x-python",
   "name": "python",
   "nbconvert_exporter": "python",
   "pygments_lexer": "ipython3",
   "version": "3.12.4"
  }
 },
 "nbformat": 4,
 "nbformat_minor": 2
}
